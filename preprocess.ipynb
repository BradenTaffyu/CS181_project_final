{
 "cells": [
  {
   "cell_type": "code",
   "execution_count": 1,
   "metadata": {},
   "outputs": [],
   "source": [
    "import numpy as np\n",
    "import pandas as pd"
   ]
  },
  {
   "cell_type": "code",
   "execution_count": null,
   "metadata": {},
   "outputs": [],
   "source": [
    "\n",
    "\n",
    "# 读取数据\n",
    "df = pd.read_csv('archive/steam_game_reviews.csv')\n",
    "\n",
    "# 展示前10条\n",
    "print(df.head(10))\n"
   ]
  },
  {
   "cell_type": "code",
   "execution_count": 6,
   "metadata": {},
   "outputs": [
    {
     "name": "stdout",
     "output_type": "stream",
     "text": [
      "推荐(Recommended)数量: 33355\n",
      "不推荐(Not Recommended)数量: 16645\n"
     ]
    }
   ],
   "source": [
    "# 取前1w条数据\n",
    "df_5w = df.head(50000)\n",
    "\n",
    "# 按照 'recommendation' 是否为 'Recommended' 分类\n",
    "df_recommended = df_5w[df_5w['recommendation'] == 'Recommended']\n",
    "df_not_recommended = df_5w[df_5w['recommendation'] != 'Recommended']\n",
    "\n",
    "print(f\"推荐(Recommended)数量: {len(df_recommended)}\")\n",
    "print(f\"不推荐(Not Recommended)数量: {len(df_not_recommended)}\")\n"
   ]
  },
  {
   "cell_type": "code",
   "execution_count": 10,
   "metadata": {},
   "outputs": [
    {
     "name": "stdout",
     "output_type": "stream",
     "text": [
      "12500\n",
      "12500\n"
     ]
    }
   ],
   "source": [
    "import os\n",
    "\n",
    "# 创建目标文件夹\n",
    "pos_dir = \"pos\"\n",
    "neg_dir = \"neg\"\n",
    "os.makedirs(pos_dir, exist_ok=True)\n",
    "os.makedirs(neg_dir, exist_ok=True)\n",
    "\n",
    "\n",
    "df_recommended_5k = df_recommended.head(12500)\n",
    "df_not_recommended_5k = df_not_recommended.head(12500)\n",
    "print(len(df_recommended_5k))\n",
    "print(len(df_not_recommended_5k))\n",
    "for idx, row in df_recommended_5k.iterrows():\n",
    "    with open(os.path.join(pos_dir, f\"{idx}.txt\"), \"w\", encoding=\"utf-8\") as f:\n",
    "        f.write(str(row['review']))\n",
    "\n",
    "# 保存不推荐评论到neg文件夹\n",
    "for idx, row in df_not_recommended_5k.iterrows():\n",
    "    with open(os.path.join(neg_dir, f\"{idx}.txt\"), \"w\", encoding=\"utf-8\") as f:\n",
    "        f.write(str(row['review']))\n"
   ]
  },
  {
   "cell_type": "code",
   "execution_count": 11,
   "metadata": {},
   "outputs": [],
   "source": [
    "# 新建 test_pos 和 test_neg 文件夹，分别保存20000条之后的推荐/不推荐评论各5000条\n",
    "test_pos_dir = \"test_pos\"\n",
    "test_neg_dir = \"test_neg\"\n",
    "os.makedirs(test_pos_dir, exist_ok=True)\n",
    "os.makedirs(test_neg_dir, exist_ok=True)\n",
    "\n",
    "# 取20000条之后的数据\n",
    "df_after_20k = df.iloc[50000:]\n",
    "\n",
    "# 分别筛选推荐和不推荐\n",
    "df_test_recommended = df_after_20k[df_after_20k['recommendation'] == 'Recommended'].head(10000)\n",
    "df_test_not_recommended = df_after_20k[df_after_20k['recommendation'] != 'Recommended'].head(10000)\n",
    "\n",
    "# 保存推荐评论到 test_pos\n",
    "for idx, row in df_test_recommended.iterrows():\n",
    "    with open(os.path.join(test_pos_dir, f\"{idx}.txt\"), \"w\", encoding=\"utf-8\") as f:\n",
    "        f.write(str(row['review']))\n",
    "\n",
    "# 保存不推荐评论到 test_neg\n",
    "for idx, row in df_test_not_recommended.iterrows():\n",
    "    with open(os.path.join(test_neg_dir, f\"{idx}.txt\"), \"w\", encoding=\"utf-8\") as f:\n",
    "        f.write(str(row['review']))\n"
   ]
  },
  {
   "cell_type": "code",
   "execution_count": 12,
   "metadata": {},
   "outputs": [],
   "source": [
    "import re\n",
    "import os\n",
    "\n",
    "def clean_text(text):\n",
    "    # 转小写\n",
    "    text = text.lower()\n",
    "    # 去除 HTML 标签\n",
    "    text = re.sub(r'<[^>]+>', ' ', text)\n",
    "    # 去除 URL\n",
    "    text = re.sub(r'http[s]?://\\S+', ' ', text)\n",
    "    # 去除非字母数字字符（保留空格）\n",
    "    text = re.sub(r'[^a-z0-9\\s]', ' ', text)\n",
    "    # 合并多余空白并去除首尾空白\n",
    "    text = re.sub(r'\\s+', ' ', text).strip()\n",
    "    return text\n",
    "\n",
    "pos_dir = \"pos\"\n",
    "neg_dir = \"neg\"\n",
    "test_pos_dir = \"test_pos\"\n",
    "test_neg_dir = \"test_neg\"\n",
    "\n",
    "for directory in [pos_dir, neg_dir, test_pos_dir, test_neg_dir]:\n",
    "    for filename in os.listdir(directory):\n",
    "        filepath = os.path.join(directory, filename)\n",
    "        # 读取原始内容\n",
    "        with open(filepath, 'r', encoding='utf-8') as f:\n",
    "            content = f.read()\n",
    "        # 清洗\n",
    "        cleaned = clean_text(content)\n",
    "        # 覆写回文件\n",
    "        with open(filepath, 'w', encoding='utf-8') as f:\n",
    "            f.write(cleaned)\n"
   ]
  },
  {
   "cell_type": "code",
   "execution_count": 4,
   "metadata": {},
   "outputs": [],
   "source": [
    "# Rename all files in pos and neg directories to pos0.txt, pos1.txt, … and neg0.txt, neg1.txt, …\n",
    "# Process pos directory\n",
    "import os\n",
    "pos_dir=\"pos\"\n",
    "neg_dir=\"neg\"\n",
    "pos_files = sorted(os.listdir(pos_dir))\n",
    "for i, filename in enumerate(pos_files):\n",
    "    old_path = os.path.join(pos_dir, filename)\n",
    "    new_name = f\"pos{i}.txt\"\n",
    "    new_path = os.path.join(pos_dir, new_name)\n",
    "    os.rename(old_path, new_path)\n",
    "\n",
    "# Process neg directory\n",
    "neg_files = sorted(os.listdir(neg_dir))\n",
    "for i, filename in enumerate(neg_files):\n",
    "    old_path = os.path.join(neg_dir, filename)\n",
    "    new_name = f\"neg{i}.txt\"\n",
    "    new_path = os.path.join(neg_dir, new_name)\n",
    "    os.rename(old_path, new_path)\n"
   ]
  },
  {
   "cell_type": "code",
   "execution_count": 5,
   "metadata": {},
   "outputs": [],
   "source": [
    "import os\n",
    "\n",
    "neg_dir = \"neg\"\n",
    "neg_files = sorted(os.listdir(neg_dir))\n",
    "total = len(neg_files)\n",
    "# 保留前 1/4，去掉后 3/4\n",
    "keep_count = total // 4\n",
    "for filename in neg_files[keep_count:]:\n",
    "    os.remove(os.path.join(neg_dir, filename))\n"
   ]
  },
  {
   "cell_type": "code",
   "execution_count": 6,
   "metadata": {},
   "outputs": [],
   "source": [
    "import os\n",
    "\n",
    "test_neg_dir = \"test_neg\"\n",
    "test_neg_files = sorted(os.listdir(test_neg_dir))\n",
    "total = len(test_neg_files)\n",
    "# 保留前 1/4，删除后 3/4\n",
    "keep_count = total // 4\n",
    "for filename in test_neg_files[keep_count:]:\n",
    "    os.remove(os.path.join(test_neg_dir, filename))\n"
   ]
  },
  {
   "cell_type": "code",
   "execution_count": null,
   "metadata": {},
   "outputs": [
    {
     "name": "stdout",
     "output_type": "stream",
     "text": [
      "Average hours_played: 73.0\n",
      "Average helpful: 3.0\n"
     ]
    }
   ],
   "source": [
    "import pandas as pd\n",
    "\n",
    "\n",
    "df = pd.read_csv('archive/steam_game_reviews.csv', low_memory=False).head(100000)\n",
    "\n",
    "# 将可能包含非数字字符的列强制转换为数值，无法转换的置为 NaN\n",
    "df['hours_played'] = pd.to_numeric(df['hours_played'], errors='coerce')\n",
    "df['helpful']     = pd.to_numeric(df['helpful'],     errors='coerce')\n",
    "\n",
    "# 计算均值（默认跳过 NaN）\n",
    "mean_hours   = df['hours_played'].median()\n",
    "mean_helpful = df['helpful'].median()\n",
    "\n",
    "# 打印结果\n",
    "print(f\"Average hours_played: {mean_hours}\")\n",
    "print(f\"Average helpful: {mean_helpful}\")\n"
   ]
  },
  {
   "cell_type": "code",
   "execution_count": 9,
   "metadata": {},
   "outputs": [
    {
     "name": "stdout",
     "output_type": "stream",
     "text": [
      "Number of reviews with hours_played > 50 and helpful > 15: 8758\n"
     ]
    }
   ],
   "source": [
    "count = df[(df['hours_played'] > 60) & (df['helpful'] > 15)].shape[0]\n",
    "print(f\"Number of reviews with hours_played > 50 and helpful > 15: {count}\")\n"
   ]
  },
  {
   "cell_type": "code",
   "execution_count": 14,
   "metadata": {},
   "outputs": [
    {
     "name": "stdout",
     "output_type": "stream",
     "text": [
      "Number of recommended reviews: 5374\n",
      "Number of not recommended reviews: 3384\n"
     ]
    }
   ],
   "source": [
    "# 筛选出 hours_played > 60 且 helpful > 15 的子集\n",
    "filtered = df[(df['hours_played'] > 60) & (df['helpful'] > 15)]\n",
    "\n",
    "# 统计 recommendation 列中等于 \"Recommended\" 的数量\n",
    "rec_count = (filtered['recommendation'] == 'Recommended').sum()\n",
    "\n",
    "\n",
    "print(f\"Number of recommended reviews: {rec_count}\")\n",
    "print(f\"Number of not recommended reviews: {8758-rec_count}\")\n"
   ]
  },
  {
   "cell_type": "code",
   "execution_count": 16,
   "metadata": {},
   "outputs": [],
   "source": [
    "filtered.to_csv(\"Data/HQ_Data.csv\")"
   ]
  },
  {
   "cell_type": "code",
   "execution_count": 34,
   "metadata": {},
   "outputs": [],
   "source": [
    "import os\n",
    "import re\n",
    "def clean_text(text):\n",
    "    # 转小写\n",
    "    text = text.lower()\n",
    "    # 去除 HTML 标签\n",
    "    text = re.sub(r'<[^>]+>', ' ', text)\n",
    "    # 去除 URL\n",
    "    text = re.sub(r'http[s]?://\\S+', ' ', text)\n",
    "    # 去除非字母数字字符（保留空格）\n",
    "    text = re.sub(r'[^a-z0-9\\s]', ' ', text)\n",
    "    # 合并多余空白并去除首尾空白\n",
    "    text = re.sub(r'\\s+', ' ', text).strip()\n",
    "    return text\n",
    "\n",
    "# Create directories for positive and negative samples\n",
    "os.makedirs(\"test_pos\", exist_ok=True)\n",
    "os.makedirs(\"test_neg\", exist_ok=True)\n",
    "\n",
    "# Split filtered data into positive (Recommended) and negative (Not Recommended)\n",
    "pos_df = filtered[filtered[\"recommendation\"] == \"Recommended\"]\n",
    "neg_df = filtered[filtered[\"recommendation\"] != \"Recommended\"]\n",
    "\n",
    "# Save each record as a separate .txt file, only keep the review field\n",
    "for idx, row in pos_df.iterrows():\n",
    "    file_path = os.path.join(\"test_pos\", f\"{idx}.txt\")\n",
    "    with open(file_path, \"w\", encoding=\"utf-8\") as f:\n",
    "        f.write(clean_text(str(row['review'])) + \"\\n\")\n",
    "\n",
    "for idx, row in neg_df.iterrows():\n",
    "    file_path = os.path.join(\"test_neg\", f\"{idx}.txt\")\n",
    "    with open(file_path, \"w\", encoding=\"utf-8\") as f:\n",
    "        f.write(clean_text(str(row['review'])) + \"\\n\")\n",
    "\n"
   ]
  },
  {
   "cell_type": "code",
   "execution_count": 30,
   "metadata": {},
   "outputs": [
    {
     "name": "stdout",
     "output_type": "stream",
     "text": [
      "Number of positive reviews: 22562\n",
      "Number of negative reviews: 6602\n"
     ]
    }
   ],
   "source": [
    "\n",
    "df_chunk = pd.read_csv(\n",
    "    'archive/steam_game_reviews.csv',\n",
    "    skiprows=range(1, 300001),  \n",
    "    nrows=500000\n",
    ")\n",
    "\n",
    "df_filtered_chunk = df_chunk[\n",
    "    (pd.to_numeric(df_chunk['hours_played'],errors='coerce') > 60) &\n",
    "    (pd.to_numeric(df_chunk['helpful'], errors='coerce') > 15)\n",
    "]\n",
    "# 统计正向和负向评论数量\n",
    "pos_count = df_filtered_chunk[df_filtered_chunk['recommendation'] == 'Recommended'].shape[0]\n",
    "neg_count = df_filtered_chunk[df_filtered_chunk['recommendation'] != 'Recommended'].shape[0]\n",
    "\n",
    "print(f\"Number of positive reviews: {pos_count}\")\n",
    "print(f\"Number of negative reviews: {neg_count}\")\n"
   ]
  },
  {
   "cell_type": "code",
   "execution_count": 31,
   "metadata": {},
   "outputs": [],
   "source": [
    "df_filtered_chunk.to_csv(\"Data/Training_Data\")"
   ]
  },
  {
   "cell_type": "code",
   "execution_count": 38,
   "metadata": {},
   "outputs": [],
   "source": [
    "pos_dir=\"pos\"\n",
    "neg_dir=\"neg\"\n",
    "pos_files = sorted(os.listdir(pos_dir))\n",
    "for i, filename in enumerate(pos_files):\n",
    "    old_path = os.path.join(pos_dir, filename)\n",
    "    new_name = f\"pos{i}.txt\"\n",
    "    new_path = os.path.join(pos_dir, new_name)\n",
    "    os.rename(old_path, new_path)\n",
    "\n",
    "# Process neg directory\n",
    "neg_files = sorted(os.listdir(neg_dir))\n",
    "for i, filename in enumerate(neg_files):\n",
    "    old_path = os.path.join(neg_dir, filename)\n",
    "    new_name = f\"neg{i}.txt\"\n",
    "    new_path = os.path.join(neg_dir, new_name)\n",
    "    os.rename(old_path, new_path)"
   ]
  }
 ],
 "metadata": {
  "kernelspec": {
   "display_name": "Python 3",
   "language": "python",
   "name": "python3"
  },
  "language_info": {
   "codemirror_mode": {
    "name": "ipython",
    "version": 3
   },
   "file_extension": ".py",
   "mimetype": "text/x-python",
   "name": "python",
   "nbconvert_exporter": "python",
   "pygments_lexer": "ipython3",
   "version": "3.12.0"
  }
 },
 "nbformat": 4,
 "nbformat_minor": 2
}
